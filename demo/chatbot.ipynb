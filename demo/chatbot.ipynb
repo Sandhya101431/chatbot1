{
  "cells": [
    {
      "cell_type": "markdown",
      "metadata": {
        "id": "view-in-github",
        "colab_type": "text"
      },
      "source": [
        "<a href=\"https://colab.research.google.com/github/Sandhya101431/black-and-white-colorization-/blob/main/demo/chatbot.ipynb\" target=\"_parent\"><img src=\"https://colab.research.google.com/assets/colab-badge.svg\" alt=\"Open In Colab\"/></a>"
      ]
    },
    {
      "cell_type": "code",
      "execution_count": null,
      "metadata": {
        "colab": {
          "background_save": true,
          "base_uri": "https://localhost:8080/"
        },
        "id": "ttM3Kzy-xKx6",
        "outputId": "152a5a72-4a99-4824-ed9e-23d33c2a91bf"
      },
      "outputs": [
        {
          "name": "stdout",
          "output_type": "stream",
          "text": [
            "ChatBot: Hello! How can I assist you today?\n",
            "ChatBot: Hi there!\n"
          ]
        }
      ],
      "source": [
        "import nltk\n",
        "from nltk.chat.util import Chat, reflections\n",
        "\n",
        "# Define the chatbot rules\n",
        "chatbot_rules = [\n",
        "    (r'hi|hello|hey', ['Hello!', 'Hi there!', 'Greetings!']),\n",
        "    (r'what is your name?', ['My name is ChatBot.', 'You can call me ChatBot.']),\n",
        "    (r'my name is (.*)', ['Hello, %1!']),\n",
        "    (r'how are you?', ['I am good, thank you!', 'I am doing well.']),\n",
        "    (r'bye|goodbye', ['Goodbye!', 'See you later.']),\n",
        "]\n",
        "\n",
        "# Create a chatbot instance\n",
        "chatbot = Chat(chatbot_rules, reflections)\n",
        "\n",
        "# Start the conversation\n",
        "print(\"ChatBot: Hello! How can I assist you today?\")\n",
        "while True:\n",
        "    user_input = input(\"User: \")\n",
        "    response = chatbot.respond(user_input)\n",
        "    print(\"ChatBot:\", response)\n"
      ]
    },
    {
      "cell_type": "code",
      "execution_count": null,
      "metadata": {
        "id": "H_4GRbRzE9L3"
      },
      "outputs": [],
      "source": []
    }
  ],
  "metadata": {
    "colab": {
      "provenance": [],
      "authorship_tag": "ABX9TyOPNbzTRe83B3cJmzMuFMhe",
      "include_colab_link": true
    },
    "kernelspec": {
      "display_name": "Python 3",
      "name": "python3"
    },
    "language_info": {
      "name": "python"
    }
  },
  "nbformat": 4,
  "nbformat_minor": 0
}